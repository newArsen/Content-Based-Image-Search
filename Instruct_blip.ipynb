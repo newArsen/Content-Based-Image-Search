{
  "cells": [
    {
      "cell_type": "code",
      "execution_count": null,
      "metadata": {
        "id": "WSWTQAY_lX8x"
      },
      "outputs": [],
      "source": [
        "!pip install datasets\n",
        "!pip install transformers\n",
        "!pip install bitsandbytes\n",
        "!pip install accelerate\n",
        "!pip install -i https://pypi.org/simple/ bitsandbytes"
      ]
    },
    {
      "cell_type": "code",
      "execution_count": null,
      "metadata": {},
      "outputs": [],
      "source": [
        "!pip install --upgrade bitsandbytes"
      ]
    },
    {
      "cell_type": "code",
      "execution_count": null,
      "metadata": {
        "id": "MaJprsr2t6L-"
      },
      "outputs": [],
      "source": [
        "import torch\n",
        "from datasets import load_dataset\n",
        "from transformers import InstructBlipForConditionalGeneration, InstructBlipProcessor"
      ]
    },
    {
      "cell_type": "code",
      "execution_count": null,
      "metadata": {
        "id": "VSVJRgANt67H"
      },
      "outputs": [],
      "source": [
        "model = InstructBlipForConditionalGeneration.from_pretrained(\"Salesforce/instructblip-vicuna-7b\",\n",
        "                                                             load_in_4bit=True,\n",
        "                                                             torch_dtype = torch.bfloat16)"
      ]
    },
    {
      "cell_type": "code",
      "execution_count": null,
      "metadata": {
        "id": "eJophZfct7cK"
      },
      "outputs": [],
      "source": [
        "processor = InstructBlipProcessor.from_pretrained(\n",
        "    \"Salesforce/instructblip-vicuna-7b\",\n",
        ")"
      ]
    },
    {
      "cell_type": "code",
      "execution_count": null,
      "metadata": {
        "id": "OlkWycEat7z5"
      },
      "outputs": [],
      "source": [
        "datasets = [\n",
        "    (\"detection-datasets/fashionpedia\", None, \"val\"),\n",
        "    (\"keremberke/nfl-object-detection\", \"mini\", \"test\"),\n",
        "    (\"keremberke/plane-detection\", \"mini\", \"train\"),\n",
        "    (\"Matthijs/snacks\", None, \"validation\"),\n",
        "    (\"rokmr/mini_pets\", None, \"test\"),\n",
        "    (\"keremberke/pokemon-classification\", \"mini\", \"train\"),\n",
        "]"
      ]
    },
    {
      "cell_type": "code",
      "execution_count": null,
      "metadata": {
        "id": "znE2wepgt8MS"
      },
      "outputs": [],
      "source": [
        "prompt1 = \"describe this image in full detail. describe each and every aspect of the image so that an artist could re create the image\"\n",
        "prompt2 = \"create an extensive description of this image\""
      ]
    },
    {
      "cell_type": "code",
      "execution_count": null,
      "metadata": {
        "id": "sGUQHS_XuFM0"
      },
      "outputs": [],
      "source": [
        "counter = 0\n",
        "for name, config, split in datasets:\n",
        "  d = load_dataset(name, config, split = split)\n",
        "  for idx in range(len(d)):\n",
        "    image = d[idx][\"image\"]\n",
        "    desc = \"\"\n",
        "    for _prompt in [prompt1, prompt2]:\n",
        "      inputs = processor(\n",
        "          images = image,\n",
        "          text = _prompt,\n",
        "          return_rensors = \"pt\"\n",
        "      ).to(model.device, torch.bfloat16)\n",
        "      outputs = model.generate(\n",
        "          **inputs,\n",
        "          do_sample = False,\n",
        "          num_beams = 10,\n",
        "          max_length = 512,\n",
        "          min_length = 16,\n",
        "          top_p = 0.9,\n",
        "          repetition_penalty = 1.5,\n",
        "          temperature = 1,\n",
        "      )\n",
        "      generated_text = processor.batch_decode(\n",
        "          outputs,\n",
        "          skip_special_tokens = True,\n",
        "      )[0].strip()\n",
        "\n",
        "      desc += generated_text + \" \"\n",
        "\n",
        "    desc = desc.strip() #remove \\n \\t\n",
        "    image.save(f\"images/{counter}.jpg\")\n",
        "    print(counter, desc)\n",
        "\n",
        "    with open(\"description.csv\", \"a\") as f:\n",
        "      f.write(f\"{counter}, {desc}\\n\")\n",
        "\n",
        "    counter+=1\n",
        "    torch.cuda.empty_cache()\n"
      ]
    },
    {
      "cell_type": "code",
      "execution_count": null,
      "metadata": {},
      "outputs": [],
      "source": []
    }
  ],
  "metadata": {
    "colab": {
      "provenance": []
    },
    "kernelspec": {
      "display_name": "Python 3",
      "name": "python3"
    },
    "language_info": {
      "codemirror_mode": {
        "name": "ipython",
        "version": 3
      },
      "file_extension": ".py",
      "mimetype": "text/x-python",
      "name": "python",
      "nbconvert_exporter": "python",
      "pygments_lexer": "ipython3",
      "version": "3.11.4"
    }
  },
  "nbformat": 4,
  "nbformat_minor": 0
}
